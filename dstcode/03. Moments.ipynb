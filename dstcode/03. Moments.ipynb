{
 "cells": [
  {
   "cell_type": "markdown",
   "metadata": {},
   "source": [
    "# Imports"
   ]
  },
  {
   "cell_type": "code",
   "execution_count": null,
   "metadata": {},
   "outputs": [],
   "source": [
    "%load_ext autoreload\n",
    "%autoreload 2\n",
    "\n",
    "import os\n",
    "import glob\n",
    "import time\n",
    "from collections import OrderedDict\n",
    "from itertools import product\n",
    "import joblib\n",
    "import calendar\n",
    "import numpy as np\n",
    "import pandas as pd\n",
    "from IPython.display import display\n",
    "\n",
    "import matplotlib.pyplot as plt\n",
    "import seaborn as sns\n",
    "plt.style.use(\"seaborn-whitegrid\")\n",
    "colors = [x['color'] for x in plt.style.library['seaborn']['axes.prop_cycle']]\n",
    "\n",
    "import dsttools\n",
    "import moments\n",
    "import datafigs"
   ]
  },
  {
   "cell_type": "code",
   "execution_count": null,
   "metadata": {},
   "outputs": [],
   "source": [
    "# create folders if necessary\n",
    "if not os.path.exists('moments'): os.makedirs('moments')  \n",
    "if not os.path.exists('moments/samples'): os.makedirs('moments/samples')"
   ]
  },
  {
   "cell_type": "markdown",
   "metadata": {},
   "source": [
    "# Load"
   ]
  },
  {
   "cell_type": "code",
   "execution_count": null,
   "metadata": {},
   "outputs": [],
   "source": [
    "sample = 'all'\n",
    "LOAD = False\n",
    "DO_BOOTSTRAP = True\n",
    "DO_FIGS = True\n",
    "WINDSORIZE = 0.001\n",
    "%time df = pd.read_parquet(f'data/final_{sample}.parquet')"
   ]
  },
  {
   "cell_type": "code",
   "execution_count": null,
   "metadata": {},
   "outputs": [],
   "source": [
    "#df = df[(df.age >= 40) & (df.age <= 55)]"
   ]
  },
  {
   "cell_type": "markdown",
   "metadata": {},
   "source": [
    "**Settings:**"
   ]
  },
  {
   "cell_type": "code",
   "execution_count": null,
   "metadata": {},
   "outputs": [],
   "source": [
    "# a. moments\n",
    "class par: None\n",
    "par.ks = [1,2,3,4,5,6] # length of growth rates (multiples of 12)\n",
    "par.ls = [1,2,3,4,5,6] # difference in covariances (multiples of 12)\n",
    "\n",
    "par.ks1 = [1] # for monthly\n",
    "par.ls1 = [1]\n",
    "\n",
    "par.ks_level = [1,2,3,4,5,6] # for levels\n",
    "\n",
    "# bounds when calculates shares\n",
    "etas = np.array([0.50,0.40,0.30,0.20,0.10,0.05,0.04,0.03,0.02,0.01,5*1e-3,1e-3,1e-4])\n",
    "par.etas_leq = np.concatenate((etas,-np.flip(etas)))\n",
    "par.etas_leq_midrange = par.etas_leq\n",
    "\n",
    "par.etas_leq_d1ky = par.etas_leq\n",
    "par.etas_leq_d1ky_midrange = par.etas_leq\n",
    "\n",
    "par.etas_cdf = np.logspace(-4,np.log(150)/np.log(10),50)\n",
    "par.etas_cdf = np.flip(np.concatenate((-np.flip(par.etas_cdf),par.etas_cdf)))/100\n",
    "par.eta_cond_midrange = 0.01\n",
    "\n",
    "par.noseason_months = [2,3,8,9,10,11]\n",
    "par.noseason_months_lag = [month for month in par.noseason_months if month-1 in par.noseason_months]\n",
    "print('no season months with lag: [' + ''.join(f'{m} ' for m in par.noseason_months_lag) + ']')\n",
    "\n",
    "par.ages = np.arange(df.age.min(),df.age.max()+1,1,dtype=np.int64) # ages for computing moments\n",
    "print(f'ages = [{par.ages[0]},{par.ages[1]},...,{par.ages[-1]}]')\n",
    "\n",
    "# b. bootstrap\n",
    "min_boot = 0\n",
    "max_boot = 200"
   ]
  },
  {
   "cell_type": "code",
   "execution_count": null,
   "metadata": {},
   "outputs": [],
   "source": [
    "assert np.all(np.diff(par.etas_leq) < 0)\n",
    "assert np.all(np.diff(par.etas_leq_midrange) < 0)\n",
    "assert np.all(np.diff(par.etas_cdf) < 0)"
   ]
  },
  {
   "cell_type": "markdown",
   "metadata": {},
   "source": [
    "# Full-size dataset"
   ]
  },
  {
   "cell_type": "code",
   "execution_count": null,
   "metadata": {},
   "outputs": [],
   "source": [
    "def create_full_size():\n",
    "    \n",
    "    # a. pnrs\n",
    "    pnrs = df.index.levels[0]\n",
    "    par.N = pnrs.size\n",
    "    \n",
    "    np.savetxt(f'moments/N_{sample}.txt',np.array([par.N]),delimiter=',',fmt='%d')\n",
    "    \n",
    "    # b. number of periods\n",
    "    par.T = df.groupby('pnr').birthyear.count().max()\n",
    "    \n",
    "    if LOAD:    \n",
    "    \n",
    "        return df\n",
    "    \n",
    "    else:\n",
    "        \n",
    "        # c. years\n",
    "        min_year = df.index.get_level_values('year').min()\n",
    "        max_year = df.index.get_level_values('year').max()\n",
    "        years = np.arange(min_year,max_year+1,1)\n",
    "\n",
    "        # d. complete\n",
    "        df_full = pd.DataFrame({'pnr':np.repeat(pnrs,par.T),\n",
    "                                'year':np.tile(np.repeat(years,12),par.N),\n",
    "                                'month':np.tile(np.tile(np.arange(1,12+1),years.size),par.N)\n",
    "                                })\n",
    "        \n",
    "        df_full['t'] = 12*(df_full.year-min_year) + df_full.month\n",
    "        df_full = df_full.set_index(['pnr','year','month'])\n",
    "\n",
    "        # e. join with loaded data\n",
    "        df_full = df_full.join(df[['wage_narrow','unemployed','date']],how='left')\n",
    "        df_full.loc[df_full.unemployed.isna(),'unemployed'] = False\n",
    "\n",
    "        # f. birthyear and age\n",
    "        birthyear = df.groupby('pnr').birthyear.first().astype('int64')\n",
    "        birthyear.name = 'birthyear'\n",
    "        df_full = df_full.join(birthyear,how='left',on='pnr')\n",
    "        df_full['age'] = df_full.index.get_level_values('year') - df_full.birthyear\n",
    "        df_full['out_of_sample'] = (df_full.age < par.ages[0]) | (df_full.age > par.ages[-1])\n",
    "        \n",
    "        # g. zero income for unemployed\n",
    "        df_full.loc[df_full.unemployed,'wage_narrow'] = 0\n",
    "        \n",
    "        return df_full\n",
    "    \n",
    "t0 = time.time()\n",
    "df = create_full_size()    \n",
    "t1 = time.time()\n",
    "print(f'full-size data set created in {t1-t0:.1f} secs')"
   ]
  },
  {
   "cell_type": "markdown",
   "metadata": {},
   "source": [
    "# Growth rates"
   ]
  },
  {
   "cell_type": "code",
   "execution_count": null,
   "metadata": {},
   "outputs": [],
   "source": [
    "def take_logs():    \n",
    "    \n",
    "    t0 = time.time()\n",
    "    \n",
    "    df['y'] = np.nan\n",
    "    I = df.wage_narrow > 0 # note: unemployed have forced zero income\n",
    "    df.loc[I,'y'] = np.log(df[I].wage_narrow)        \n",
    "    \n",
    "    for k in par.ks_level:\n",
    "        df[f'y_lead{12*k}'] = df.groupby('pnr').y.shift(-12*k)\n",
    "\n",
    "    t1 = time.time()\n",
    "    print(f'logs taken in {t1-t0:.1f} secs')\n",
    "    \n",
    "def calc_growth_rate():\n",
    "    \n",
    "    # a. main\n",
    "    for k in par.ks:\n",
    "        \n",
    "        t0 = time.time()\n",
    "           \n",
    "        df[f'd{k*12}y'] = df.groupby('pnr').y.diff(12*k)\n",
    "        \n",
    "        if WINDSORIZE > 0:\n",
    "            cutoffs = df[f'd{k*12}y'].quantile([WINDSORIZE,1-WINDSORIZE]).values\n",
    "            df[f'd{k*12}yw'] = df[f'd{k*12}y'].clip(cutoffs[0],cutoffs[1])\n",
    "    \n",
    "        t1 = time.time()\n",
    "        print(f'12k-month growth rate calculated, k = {k}, in {t1-t0:.1f} secs')\n",
    "           \n",
    "    # b. monthly\n",
    "    for k in par.ks1:\n",
    "        \n",
    "        t0 = time.time()\n",
    "\n",
    "        df[f'd{k}y'] = df.groupby('pnr').y.diff(k)\n",
    "        if WINDSORIZE > 0:\n",
    "            cutoffs = df[f'd{k}y'].quantile([WINDSORIZE,1-WINDSORIZE]).values\n",
    "            df[f'd{k}yw'] = df[f'd{k}y'].clip(cutoffs[0],cutoffs[1])        \n",
    "       \n",
    "        t1 = time.time()\n",
    "        print(f'monthly growth rate calculated, k = {k}, in {t1-t0:.1f} secs')        \n",
    "    \n",
    "    # c. additional\n",
    "    t0 = time.time()\n",
    "\n",
    "    df['d12y_lag'] = df.groupby('pnr').d12y.shift(12)\n",
    "    df['d1y_lag'] = df.groupby('pnr').d12y.shift(1)\n",
    "    \n",
    "    t1 = time.time()\n",
    "    \n",
    "    print(f'lagged growth rates calculated, in {t1-t0:.1f} secs')\n",
    "        \n",
    "if not LOAD:     \n",
    "    \n",
    "    take_logs()\n",
    "    calc_growth_rate()"
   ]
  },
  {
   "cell_type": "markdown",
   "metadata": {},
   "source": [
    "## Make selections"
   ]
  },
  {
   "cell_type": "code",
   "execution_count": null,
   "metadata": {},
   "outputs": [],
   "source": [
    "def selection():    \n",
    "    \n",
    "    t0 = time.time()\n",
    "    \n",
    "    # a. everyone\n",
    "    df['everyone'] = df.y.notna()\n",
    "    \n",
    "    # b. no-season\n",
    "    df['noseason'] = df.everyone & df.index.get_level_values('month').isin(par.noseason_months)\n",
    "    \n",
    "    # c. selected\n",
    "    df['midrange_d12y'] = df.everyone & df.d12y_lag.between(-par.eta_cond_midrange,par.eta_cond_midrange)\n",
    "    _temp = df.everyone & df.index.get_level_values('month').isin(par.noseason_months_lag)\n",
    "    df['midrange_d1y'] = _temp & df.d1y_lag.between(-par.eta_cond_midrange,par.eta_cond_midrange)\n",
    "\n",
    "    t1 = time.time()\n",
    "    \n",
    "    print(f'selection made in {t1-t0:.1f} secs')\n",
    "    \n",
    "if not LOAD:\n",
    "    \n",
    "    selection()\n",
    "    print(f'everyone, {df.everyone.mean()*100:.1f} percent')\n",
    "    print(f'midrange_d12y, {df.midrange_d12y.mean()*100:.1f} percent')\n",
    "    print(f'noseason, {df.noseason.mean()*100:.1f} percent')\n",
    "    print(f'midrange_d1y, {df.midrange_d1y.mean()*100:.1f} percent')\n",
    "    "
   ]
  },
  {
   "cell_type": "markdown",
   "metadata": {},
   "source": [
    "# Overview"
   ]
  },
  {
   "cell_type": "markdown",
   "metadata": {},
   "source": [
    "## Level"
   ]
  },
  {
   "cell_type": "markdown",
   "metadata": {},
   "source": [
    "**Lifecycle**"
   ]
  },
  {
   "cell_type": "code",
   "execution_count": null,
   "metadata": {},
   "outputs": [],
   "source": [
    "if not LOAD and DO_FIGS:\n",
    "    \n",
    "    fig = plt.figure()\n",
    "    ax = fig.add_subplot(1,1,1)\n",
    "\n",
    "    # a. mean by (birthyear,age)\n",
    "    ys = df[df['unemployed']==False].groupby(['birthyear','age']).wage_narrow.mean()\n",
    "    \n",
    "    for birthyear in df.birthyear.unique():\n",
    "        if np.any(df.birthyear == birthyear):\n",
    "            y = ys.xs(birthyear,level='birthyear')\n",
    "            x = y.index.get_level_values('age')\n",
    "            ax.plot(x,y)\n",
    "\n",
    "    # b. save\n",
    "    ax.set_xlabel('age')\n",
    "    ax.set_ylabel('average, 1,000 DKK')\n",
    "    fig.tight_layout()\n",
    "    fig.savefig(f'figs/lifecyle_DKK.pdf')\n",
    "    "
   ]
  },
  {
   "cell_type": "code",
   "execution_count": null,
   "metadata": {},
   "outputs": [],
   "source": [
    "if not LOAD and DO_FIGS:\n",
    "    \n",
    "    fig = plt.figure()\n",
    "    ax = fig.add_subplot(1,1,1)\n",
    "\n",
    "    # a. mean by (birthyear,age)\n",
    "    ys = df[df['unemployed']==False].groupby(['birthyear','age']).y.mean()\n",
    "    \n",
    "    for birthyear in df.birthyear.unique():\n",
    "        if np.any(df.birthyear == birthyear):\n",
    "            y = ys.xs(birthyear,level='birthyear')\n",
    "            x = y.index.get_level_values('age')\n",
    "            ax.plot(x,y)\n",
    "\n",
    "    # b. save\n",
    "    ax.set_xlabel('age')\n",
    "    ax.set_ylabel('average log(income), ')\n",
    "    fig.tight_layout()\n",
    "    fig.savefig(f'figs/lifecyle_y.pdf')\n",
    "    "
   ]
  },
  {
   "cell_type": "code",
   "execution_count": null,
   "metadata": {},
   "outputs": [],
   "source": [
    "if not LOAD and DO_FIGS:\n",
    "    \n",
    "    fig = plt.figure()\n",
    "    ax = fig.add_subplot(1,1,1)\n",
    "\n",
    "    # a. mean by (birthyear,age)\n",
    "    ys = df[ (df['unemployed'] == False)].groupby(['birthyear','age']).y.var()\n",
    "    \n",
    "    for birthyear in df.birthyear.unique():\n",
    "        if np.any(df.birthyear == birthyear):\n",
    "            y = ys.xs(birthyear,level='birthyear')\n",
    "            x = y.index.get_level_values('age')\n",
    "            ax.plot(x,y)\n",
    "\n",
    "    # b. save\n",
    "    ax.set_xlabel('age')\n",
    "    ax.set_ylabel('variance log(income), ')\n",
    "    fig.tight_layout()\n",
    "    fig.savefig(f'figs/lifecyle_y_var.pdf')\n",
    "    "
   ]
  },
  {
   "cell_type": "markdown",
   "metadata": {},
   "source": [
    "**Distribution, DKK**"
   ]
  },
  {
   "cell_type": "code",
   "execution_count": null,
   "metadata": {},
   "outputs": [],
   "source": [
    "if not LOAD and DO_FIGS:\n",
    "    \n",
    "    fig = plt.figure()\n",
    "    ax = fig.add_subplot(1,1,1)\n",
    "\n",
    "    # a. cdf\n",
    "    var = df.wage_narrow\n",
    "    \n",
    "    # everyone\n",
    "    I = ~np.isnan(var)\n",
    "    x = var[I]\n",
    "    x = x.sort_values()\n",
    "    cdf = x.rank(method='average',pct=True)\n",
    "    ax.plot(x,cdf,lw=1)\n",
    "\n",
    "    # b. details\n",
    "    ax.set_xscale('log')\n",
    "    ax.set_ylim([0,1])\n",
    "    ax.set_xlim([10**0,10**3])\n",
    "    ax.set_xlabel('1,000 DKK')\n",
    "    ax.set_ylabel('cdf')\n",
    "    \n",
    "    fig.tight_layout()\n",
    "    fig.savefig(f'figs/wage_narrow_cdf.pdf')"
   ]
  },
  {
   "cell_type": "markdown",
   "metadata": {},
   "source": [
    "**Time, log**"
   ]
  },
  {
   "cell_type": "code",
   "execution_count": null,
   "metadata": {},
   "outputs": [],
   "source": [
    "if not LOAD and DO_FIGS:\n",
    "    \n",
    "    fig = plt.figure()\n",
    "    ax = fig.add_subplot(1,1,1)\n",
    "\n",
    "    # a. by date\n",
    "    y = df.groupby('date').y.mean()\n",
    "    x = y.index.get_level_values('date')\n",
    "    ax.plot(x,y)\n",
    "\n",
    "    # b. by year\n",
    "    z = y.groupby(y.index.year).transform('mean')\n",
    "    for year in z.index.year.unique():\n",
    "        I = z.index.year == year\n",
    "        ax.plot(x[I],z[I],color=colors[1])\n",
    "\n",
    "    # c. save\n",
    "    ax.set_ylabel('average of $y_t$')\n",
    "    fig.tight_layout()\n",
    "    fig.savefig('figs/y_time.pdf')"
   ]
  },
  {
   "cell_type": "markdown",
   "metadata": {},
   "source": [
    "## 12-month growth"
   ]
  },
  {
   "cell_type": "markdown",
   "metadata": {},
   "source": [
    "**Distribution:**"
   ]
  },
  {
   "cell_type": "code",
   "execution_count": null,
   "metadata": {},
   "outputs": [],
   "source": [
    "if not LOAD and DO_FIGS:\n",
    "    \n",
    "    varlist = [df[f'd{k*12}y'] for k in par.ks]\n",
    "    varnamelist = [f'$\\Delta_{{{k*12}}}y_t$' for k in par.ks]\n",
    "\n",
    "    datafigs.cdf(varlist,varnamelist,name='d12ky_cdf',xlabel=f'$100 \\cdot \\Delta_k y_t$')"
   ]
  },
  {
   "cell_type": "markdown",
   "metadata": {},
   "source": [
    "**Distribution by month:**"
   ]
  },
  {
   "cell_type": "code",
   "execution_count": null,
   "metadata": {},
   "outputs": [],
   "source": [
    "if not LOAD and DO_FIGS:\n",
    "    \n",
    "    varlist = [df.d12y.xs(month,level='month') for month in df.index.unique('month')]\n",
    "    varnamelist = [calendar.month_abbr[month] for month in df.index.unique('month')]\n",
    "\n",
    "    datafigs.cdf(varlist,varnamelist,name = 'd12y_cdf_by_month',xlabel='$100 \\cdot \\Delta_{12} y_t$')"
   ]
  },
  {
   "cell_type": "markdown",
   "metadata": {},
   "source": [
    "**Distribution by age-groups**"
   ]
  },
  {
   "cell_type": "code",
   "execution_count": null,
   "metadata": {},
   "outputs": [],
   "source": [
    "if not LOAD and DO_FIGS:\n",
    "    \n",
    "    age_groups = [(30,40),(40,50),(50,60)]\n",
    "    varlist = [df.loc[df.age.between(age_group[0],age_group[1]),'d12y'] for age_group in age_groups]\n",
    "    varnamelist = [f'age {age_group[0]}-{age_group[1]}' for age_group in age_groups]\n",
    "\n",
    "    datafigs.cdf(varlist,varnamelist,name='d12y_cdf_by_age',xlabel=f'$100 \\cdot \\Delta_{{12}} y_t$')"
   ]
  },
  {
   "cell_type": "markdown",
   "metadata": {},
   "source": [
    "**Distribution condtional on lagged growth**"
   ]
  },
  {
   "cell_type": "code",
   "execution_count": null,
   "metadata": {},
   "outputs": [],
   "source": [
    "if not LOAD and DO_FIGS:\n",
    "    \n",
    "    varlist = [df.d12y,df.loc[df.midrange_d12y,'d12y']]\n",
    "    varnamelist = ['All',\n",
    "                   f'$\\Delta_{{12}} y_{{t-12}} \\in [{-par.eta_cond_midrange},{par.eta_cond_midrange}]$']\n",
    "\n",
    "    datafigs.cdf(varlist,varnamelist,name='d12y_cdf_by_midrange',xlabel=f'$100 \\cdot \\Delta_{{12}} y_t$')"
   ]
  },
  {
   "cell_type": "markdown",
   "metadata": {},
   "source": [
    "**Distribution over life-cycle:**"
   ]
  },
  {
   "cell_type": "code",
   "execution_count": null,
   "metadata": {},
   "outputs": [],
   "source": [
    "if not LOAD and DO_FIGS:\n",
    "    \n",
    "    k = 1\n",
    "    ylim = [-0.5,0.5]\n",
    "    datafigs.lifecycle_dist(df,f'd{12*k}y',name=f'lifecycle_d{12*k}y',ylabel=f'$\\Delta_{{{12*k}}} y_t$',ylim=ylim)"
   ]
  },
  {
   "cell_type": "code",
   "execution_count": null,
   "metadata": {},
   "outputs": [],
   "source": [
    "if not LOAD and DO_FIGS:\n",
    "    \n",
    "    k = 5\n",
    "    ylim = [-1,1]\n",
    "    datafigs.lifecycle_dist(df,f'd{12*k}y',name=f'lifecycle_d{12*k}y',ylabel=f'$\\Delta_{{{12*k}}} y_t$',ylim=ylim)"
   ]
  },
  {
   "cell_type": "markdown",
   "metadata": {},
   "source": [
    "**Time profile:**"
   ]
  },
  {
   "cell_type": "code",
   "execution_count": null,
   "metadata": {},
   "outputs": [],
   "source": [
    "if not LOAD and DO_FIGS:\n",
    "    datafigs.quantiles_time(df,'d12y','date',name = 'd12y_time',ylabel='$\\Delta_{{12}} y_t$')"
   ]
  },
  {
   "cell_type": "markdown",
   "metadata": {},
   "source": [
    "**Month profile**"
   ]
  },
  {
   "cell_type": "code",
   "execution_count": null,
   "metadata": {},
   "outputs": [],
   "source": [
    "if not LOAD and DO_FIGS:\n",
    "    datafigs.quantiles_time(df,'d12y','month',name='d12y_month',ylabel='$\\Delta_{{12}} y_t$')"
   ]
  },
  {
   "cell_type": "markdown",
   "metadata": {},
   "source": [
    "## 1-month growth rate"
   ]
  },
  {
   "cell_type": "markdown",
   "metadata": {},
   "source": [
    "**Distribution by month:**"
   ]
  },
  {
   "cell_type": "code",
   "execution_count": null,
   "metadata": {},
   "outputs": [],
   "source": [
    "if not LOAD and DO_FIGS:\n",
    "    \n",
    "    varlist = [df.d1y.xs(month,level='month') for month in df.index.unique('month')]\n",
    "    varnamelist = [calendar.month_abbr[month] for month in df.index.unique('month')]\n",
    "\n",
    "    datafigs.cdf(varlist,varnamelist,name='d1y_cdf',xlabel='$100 \\cdot \\Delta y_t$')\n",
    "    \n",
    "    # selected\n",
    "    varlist = [df.d1y.xs(month,level='month') for month in df.index.unique('month') if month in par.noseason_months]\n",
    "    varnamelist = [calendar.month_abbr[month] for month in df.index.unique('month') if month in par.noseason_months]\n",
    "\n",
    "    datafigs.cdf(varlist,varnamelist,name='d1y_cdf_noseason',xlabel='$100 \\cdot \\Delta y_t$')    "
   ]
  },
  {
   "cell_type": "markdown",
   "metadata": {},
   "source": [
    "**Distribution by age-groups**"
   ]
  },
  {
   "cell_type": "code",
   "execution_count": null,
   "metadata": {},
   "outputs": [],
   "source": [
    "if not LOAD and DO_FIGS:\n",
    "    \n",
    "    age_groups = [(30,40),(40,50),(50,60)]\n",
    "    varlist = [df.loc[df.age.between(age_group[0],age_group[1]) & df.noseason,'d1y'] for age_group in age_groups]\n",
    "    varnamelist = [f'age {age_group[0]}-{age_group[1]}' for age_group in age_groups]\n",
    "\n",
    "    datafigs.cdf(varlist,varnamelist,name='d1y_cdf_by_age',xlabel=f'$100 \\cdot \\Delta y_t$')"
   ]
  },
  {
   "cell_type": "markdown",
   "metadata": {},
   "source": [
    "**Distribution condtional on lagged growth**"
   ]
  },
  {
   "cell_type": "code",
   "execution_count": null,
   "metadata": {},
   "outputs": [],
   "source": [
    "if not LOAD and DO_FIGS:\n",
    "    \n",
    "    varlist = [df.d1y,df.loc[df.midrange_d1y,'d1y']] # automatically ensures noseason\n",
    "    varnamelist = ['All',\n",
    "                   f'$\\Delta y_{{t-1}} \\in [{-par.eta_cond_midrange},{par.eta_cond_midrange}]$']\n",
    "\n",
    "    datafigs.cdf(varlist,varnamelist,name='d1y_cdf_by_midrange',xlabel=f'$100 \\cdot \\Delta y_t$')"
   ]
  },
  {
   "cell_type": "markdown",
   "metadata": {},
   "source": [
    "**Time profile:**"
   ]
  },
  {
   "cell_type": "code",
   "execution_count": null,
   "metadata": {},
   "outputs": [],
   "source": [
    "if not LOAD and DO_FIGS:\n",
    "    datafigs.quantiles_time(df,'d1y','date',name='d1y_time',ylabel='$\\Delta y_t$')"
   ]
  },
  {
   "cell_type": "markdown",
   "metadata": {},
   "source": [
    "**Month profile**"
   ]
  },
  {
   "cell_type": "code",
   "execution_count": null,
   "metadata": {},
   "outputs": [],
   "source": [
    "if not LOAD and DO_FIGS:\n",
    "    datafigs.quantiles_time(df,'d1y','month',name='d1y_month',ylabel='$\\Delta y_t$')"
   ]
  },
  {
   "cell_type": "markdown",
   "metadata": {},
   "source": [
    "**Absolute less than**"
   ]
  },
  {
   "cell_type": "code",
   "execution_count": null,
   "metadata": {},
   "outputs": [],
   "source": [
    "if not LOAD and DO_FIGS:\n",
    "    use_months = [2,3,8,9,10,11]\n",
    "    season_etas = [1,3,5] \n",
    "    datafigs.abs_leq_month(df,season_etas,use_months,par.ages)"
   ]
  },
  {
   "cell_type": "markdown",
   "metadata": {},
   "source": [
    "# Moment functions"
   ]
  },
  {
   "cell_type": "markdown",
   "metadata": {},
   "source": [
    "## Mean, variance, skewness and kurtosis"
   ]
  },
  {
   "cell_type": "code",
   "execution_count": null,
   "metadata": {},
   "outputs": [],
   "source": [
    "def _mean_var_skew_kurt(x,age,cond,par):\n",
    "    \n",
    "    T = par.Tnow\n",
    "    N = x.size//T\n",
    "    \n",
    "    x = x.reshape((N,T))\n",
    "    age = age.reshape((N,T))\n",
    "    cond = cond.reshape((N,T))\n",
    "\n",
    "    out = moments.mean_var_skew_kurt_ages(x,age,cond,par.ages,par.periods)\n",
    "        \n",
    "    return pd.Series(out)\n",
    "\n",
    "def mean_var_skew_kurt(moms,df,cond,par,postfix=''):\n",
    "    \n",
    "    step = par.step\n",
    "\n",
    "    for k in par.ks:\n",
    "\n",
    "        # i. calculate\n",
    "        ysbase = df.groupby('birthyear')['age',cond,f'd{k*step}{par.yname}']\n",
    "        ys = ysbase.apply(lambda x: _mean_var_skew_kurt(x[f'd{k*step}{par.yname}'].values,x['age'].values,x[cond].values,par))\n",
    "\n",
    "        # ii. save\n",
    "        for i,mom in enumerate(['mean','var','skew','kurt']):\n",
    "                    \n",
    "            ys_ = ys.iloc[:,i*par.ages.size:(i+1)*par.ages.size]\n",
    "            values = ys_.mean().values \n",
    "            moms[(f'{mom}_d{step}k{par.yname}{postfix}',k)] = np.nanmean(values)\n",
    "            "
   ]
  },
  {
   "cell_type": "markdown",
   "metadata": {},
   "source": [
    "## Autocovariances"
   ]
  },
  {
   "cell_type": "code",
   "execution_count": null,
   "metadata": {},
   "outputs": [],
   "source": [
    "def _auto_cov(a,b,offset,age,cond,par):\n",
    "    \n",
    "    T = par.Tnow\n",
    "    N = a.size//T\n",
    "    \n",
    "    a = a.reshape((N,T))\n",
    "    b = b.reshape((N,T))\n",
    "    age = age.reshape((N,T))\n",
    "    cond = cond.reshape((N,T))\n",
    "                  \n",
    "    out = moments.cov_ages(a,b,offset,age,cond,par.ages,par.periods)\n",
    "    \n",
    "    return pd.Series(out)\n",
    "\n",
    "def auto_cov(moms,df,cond,par,postfix=''):\n",
    "\n",
    "    step = par.step\n",
    "    for l in par.ls:\n",
    "\n",
    "        # i. calculate\n",
    "        ybase = df.groupby('birthyear')['age',cond,f'd{step}{par.yname}']\n",
    "        ys = ybase.apply(lambda x: _auto_cov(x[f'd{step}{par.yname}'].values,x[f'd{step}{par.yname}'].values,l*step,x['age'].values,x[cond].values,par))\n",
    "\n",
    "        # ii. save\n",
    "        values = ys.mean().values  \n",
    "        moms[(f'auto_cov_d{step}{par.yname}{step}l{postfix}',l)] = np.nanmean(values)\n",
    "            \n",
    "def frac_auto_cov(moms,df,cond,par,postfix=''):\n",
    "                  \n",
    "    step = par.step\n",
    "    k = step//12\n",
    "    for l in range(1,12*k):\n",
    "            \n",
    "        # i. calculate\n",
    "        ybase = df.groupby('birthyear')['age',cond,f'd{step}{par.yname}']\n",
    "        ys = ybase.apply(lambda x: _auto_cov(x[f'd{step}{par.yname}'].values,x[f'd{step}{par.yname}'].values,l,x['age'].values,x[cond].values,par))\n",
    "\n",
    "        # ii. save\n",
    "        values = ys.mean().values \n",
    "        moms[(f'frac_auto_cov_d{step}{par.yname}1l{postfix}',l)] = np.nanmean(values)"
   ]
  },
  {
   "cell_type": "markdown",
   "metadata": {},
   "source": [
    "## Shares"
   ]
  },
  {
   "cell_type": "code",
   "execution_count": null,
   "metadata": {},
   "outputs": [],
   "source": [
    "def _share_in_range(x,etas_low,etas_high,age,cond,par):\n",
    "    \n",
    "    T = par.Tnow\n",
    "    N = x.size//T\n",
    "    \n",
    "    x = x.reshape((N,T))\n",
    "    age = age.reshape((N,T))\n",
    "    cond = cond.reshape((N,T))\n",
    "    \n",
    "    out = moments.share_in_range(x,etas_low,etas_high,age,cond,par.ages,par.periods)\n",
    "    \n",
    "    return pd.Series(out)  \n",
    "\n",
    "def share_leq(moms,df,cond,par,postfix=''):\n",
    "    \n",
    "    step = par.step\n",
    "    for k in par.ks:\n",
    "        \n",
    "        # i. calculate\n",
    "        ybase = df.groupby('birthyear')['age',cond,f'd{step*k}{par.yname}']\n",
    "        \n",
    "        eta_high = np.array(par.etas_leq)\n",
    "        eta_low = -np.inf*np.ones(eta_high.size)\n",
    "        ys = ybase.apply(lambda x: _share_in_range(x[f'd{step*k}{par.yname}'].values,eta_low,eta_high,x['age'].values,x[cond].values,par))\n",
    "\n",
    "        # ii. save\n",
    "        for i,eta in enumerate(par.etas_leq):\n",
    "            \n",
    "            ys_ = ys.iloc[:,i*par.ages.size:(i+1)*par.ages.size]    \n",
    "            values = ys_.mean().values   \n",
    "            moms[(f'leq_d{step}k{par.yname}{postfix}',(k,eta))] = np.nanmean(values)\n",
    "            \n",
    "def share_cdf(moms,df,cond,par,postfix=''):\n",
    "    \n",
    "    step = par.step\n",
    "    for k in par.ks:\n",
    "        \n",
    "        # i. calculate\n",
    "        ybase = df.groupby('birthyear')['age',cond,f'd{step*k}{par.yname}']\n",
    "        \n",
    "        eta_high = np.array(par.etas_cdf)\n",
    "        eta_low = -np.inf*np.ones(eta_high.size)\n",
    "        ys = ybase.apply(lambda x: _share_in_range(x[f'd{step*k}{par.yname}'].values,eta_low,eta_high,x['age'].values,x[cond].values,par))\n",
    "\n",
    "        # ii. save\n",
    "        for i,eta in enumerate(par.etas_cdf):\n",
    "            \n",
    "            ys_ = ys.iloc[:,i*par.ages.size:(i+1)*par.ages.size]    \n",
    "            values = ys_.mean().values   \n",
    "            moms[(f'cdf_d{step}k{par.yname}{postfix}',(k,i))] = np.nanmean(values) \n",
    "            "
   ]
  },
  {
   "cell_type": "markdown",
   "metadata": {},
   "source": [
    "## Calculate all"
   ]
  },
  {
   "cell_type": "code",
   "execution_count": null,
   "metadata": {},
   "outputs": [],
   "source": [
    "def _moms_func(moms,df,par,do_cdfs=False):\n",
    "\n",
    "    ###############\n",
    "    # a. 12-month #\n",
    "    ###############\n",
    "    \n",
    "    par.step = 12\n",
    "    par.periods = 12\n",
    "    par.yname = 'y'\n",
    "    par.Tnow = par.T\n",
    "    \n",
    "    # moments\n",
    "    mean_var_skew_kurt(moms,df,'everyone',par)\n",
    "    auto_cov(moms,df,'everyone',par)\n",
    "    frac_auto_cov(moms,df,'everyone',par)\n",
    "    \n",
    "    # leq\n",
    "    share_leq(moms,df,'everyone',par)\n",
    "    if do_cdfs: share_cdf(moms,df,'everyone',par)\n",
    "    \n",
    "    # from midrange   \n",
    "    postfix = '_midrange'\n",
    "    share_leq(moms,df,'midrange_d12y',par,postfix=postfix)\n",
    "    if do_cdfs: share_cdf(moms,df,'midrange_d12y',par,postfix=postfix)\n",
    "        \n",
    "    # windsorized\n",
    "    par.yname = 'yw'   \n",
    "    mean_var_skew_kurt(moms,df,'everyone',par)\n",
    "    auto_cov(moms,df,'everyone',par)\n",
    "    frac_auto_cov(moms,df,'everyone',par)      \n",
    "        \n",
    "    ##############\n",
    "    # b. 1-month #\n",
    "    ##############\n",
    "\n",
    "    par.step = 1\n",
    "    par.periods = 12\n",
    "    par.yname = 'y'\n",
    "    par.Tnow = par.T\n",
    "    _ks = par.ks\n",
    "    _ls = par.ls    \n",
    "    par.ks = par.ks1\n",
    "    par.ls = par.ls1\n",
    "    \n",
    "    # moments\n",
    "    mean_var_skew_kurt(moms,df,'noseason',par)\n",
    "    auto_cov(moms,df,'noseason',par)\n",
    "    \n",
    "    # leq\n",
    "    share_leq(moms,df,'noseason',par,postfix='')\n",
    "    if do_cdfs: share_cdf(moms,df,'noseason',par,postfix='')\n",
    "    \n",
    "    # from midrange   \n",
    "    postfix = '_midrange'\n",
    "    share_leq(moms,df,'midrange_d1y',par,postfix=postfix)\n",
    "    if do_cdfs: share_cdf(moms,df,'midrange_d1y',par,postfix=postfix)\n",
    "       \n",
    "    # windsorized\n",
    "    par.yname = 'yw'   \n",
    "    mean_var_skew_kurt(moms,df,'noseason',par)\n",
    "    auto_cov(moms,df,'noseason',par) \n",
    "    \n",
    "    par.ks = _ks\n",
    "    par.ls = _ls\n",
    "    \n",
    "    ############\n",
    "    # c. level #\n",
    "    ############\n",
    "    \n",
    "    # variances\n",
    "    for k in par.ks_level:\n",
    "        \n",
    "        # a. condition on y_t and y_t+k non-missing\n",
    "        ysbase = df[df.noseason][['birthyear','t','y',f'y_lead{12*k}']]\n",
    "        I = (~np.isnan(df.y)) & (~np.isnan(df[f'y_lead{12*k}']))\n",
    "        ysbase = ysbase.loc[I]\n",
    "        \n",
    "        # b. variance within each cohhort and t\n",
    "        ys = ysbase.groupby(['birthyear','t'])['y',f'y_lead{12*k}'].var()\n",
    "        ys['y_diff'] = ys[f'y_lead{12*k}'] - ys['y']\n",
    "        \n",
    "        moms[('var_y_d12_diff',k)] = np.nanmean(ys.y_diff)\n",
    "\n",
    "    # covariances\n",
    "    def cov(a,b):\n",
    "        \n",
    "        I = (~np.isnan(a)) & (~np.isnan(b))\n",
    "        if I.any():\n",
    "            covmat = np.cov(a[I],b[I])\n",
    "            return covmat[0,1]\n",
    "        else:\n",
    "            return np.nan\n",
    "\n",
    "    k = 12\n",
    "    for l in par.ks_level[:-1]:\n",
    "            \n",
    "        # a. condition on y_t, y_t+k, and y_t+k+l non-missing\n",
    "        ysbase = df[df.noseason][['birthyear','t','y',f'y_lead{k}',f'y_lead{k+12*l}']]\n",
    "        I = (~np.isnan(df.y)) & (~np.isnan(df[f'y_lead{k}'])) & (~np.isnan(df[f'y_lead{k+12*l}']))\n",
    "        ysbase = ysbase.loc[I]\n",
    "\n",
    "        # b. covariance between y_t and y_t+k(+l) within each cohort and t\n",
    "        ys_ = ysbase.groupby(['birthyear','t'])['y',f'y_lead{k}',f'y_lead{k+12*l}']\n",
    "        ys = ys_.apply(lambda x: cov(x['y'].values,x[f'y_lead{k}'].values))\n",
    "        ys = ys.to_frame(name='y')\n",
    "\n",
    "        ys['lead'] = ys_.apply(lambda x: cov(x['y'].values,x[f'y_lead{k+12*l}'].values))\n",
    "        ys['y_diff'] = ys['lead'] - ys['y']\n",
    "\n",
    "        moms[('cov_y_y_d12_diff',l)] = np.nanmean(ys.y_diff)"
   ]
  },
  {
   "cell_type": "code",
   "execution_count": null,
   "metadata": {},
   "outputs": [],
   "source": [
    "def moms_func(df,par,do_cdfs=False):\n",
    "    \n",
    "    moms = OrderedDict()\n",
    "    _moms_func(moms,df,par,do_cdfs=do_cdfs)\n",
    "        \n",
    "    # output moments as array\n",
    "    cols = ['momname','args','arg1','arg2','value']   \n",
    "    moms_df = pd.DataFrame(columns=cols)\n",
    " \n",
    "    i = 0\n",
    "    for key,value in moms.items():\n",
    "\n",
    "        # i. name and spec\n",
    "        name = key[0]\n",
    "        args = key[1]\n",
    "        if type(key[1]) is tuple:\n",
    "            arg1,arg2 = key[1]\n",
    "        else:\n",
    "            arg1 = key[1]\n",
    "            arg2 = ''\n",
    "\n",
    "        # ii. value\n",
    "        moms_df = moms_df.append(pd.DataFrame([[name,args,arg1,arg2,value]],columns=cols))\n",
    "            \n",
    "    return moms,moms_df"
   ]
  },
  {
   "cell_type": "markdown",
   "metadata": {},
   "source": [
    "# Calculate moments"
   ]
  },
  {
   "cell_type": "markdown",
   "metadata": {},
   "source": [
    "## Load/save"
   ]
  },
  {
   "cell_type": "code",
   "execution_count": null,
   "metadata": {},
   "outputs": [],
   "source": [
    "if not LOAD:\n",
    "    %time df.to_parquet(f'data/moments_{sample}.parquet')\n",
    "else:\n",
    "    %time df = pd.read_parquet(f'data/moments_{sample}.parquet')"
   ]
  },
  {
   "cell_type": "markdown",
   "metadata": {},
   "source": [
    "## Calculate"
   ]
  },
  {
   "cell_type": "code",
   "execution_count": null,
   "metadata": {},
   "outputs": [],
   "source": [
    "# a. calculate moments\n",
    "%time moms,moms_df = moms_func(df,par,do_cdfs=True)\n",
    "\n",
    "# d. save\n",
    "moms_df.loc[:,['momname','args','value']].to_excel(f'moments/moments_{sample}.xls',index=False)"
   ]
  },
  {
   "cell_type": "markdown",
   "metadata": {},
   "source": [
    "# Bootstrap"
   ]
  },
  {
   "cell_type": "markdown",
   "metadata": {},
   "source": [
    "**Run bootstraps:**"
   ]
  },
  {
   "cell_type": "code",
   "execution_count": null,
   "metadata": {},
   "outputs": [],
   "source": [
    "# a. task\n",
    "def bootstrap(b,sample_pnr,sample,par):\n",
    "\n",
    "    # i. load data\n",
    "    df = pd.read_parquet(f'data/moments_{sample}.parquet')\n",
    "    \n",
    "    # ii. sample\n",
    "    _ids = list(product(sample_pnr,df.index.levels[1],df.index.levels[2]))\n",
    "    _df = df.loc[_ids,:]\n",
    "    \n",
    "    # iii. make index unique\n",
    "    _df = _df.reset_index()\n",
    "    _df['pnr'] = np.repeat(np.arange(sample_pnr.size),df.index.levels[1].size*df.index.levels[2].size)\n",
    "    _df = _df.set_index('pnr','year','month')\n",
    "\n",
    "    # iv. calculate moments\n",
    "    _moms,moms_df = moms_func(_df,par,do_cdfs=False)\n",
    "    np.savetxt(f'moments/samples/{b}_{sample}.txt',moms_df.value.values,delimiter=',') \n",
    "    "
   ]
  },
  {
   "cell_type": "code",
   "execution_count": null,
   "metadata": {},
   "outputs": [],
   "source": [
    "if DO_BOOTSTRAP:\n",
    "        \n",
    "    # a. sample pnrs\n",
    "    np.random.seed(2019)\n",
    "    pnrs = df['age'].groupby(level='pnr').sum().index.values # hack to gets pnr's\n",
    "    sample_pnrs = np.random.choice(pnrs,size=(max_boot,pnrs.size),replace=True)\n",
    "\n",
    "    # b. run bootstraps\n",
    "    tasks = (joblib.delayed(bootstrap)(b,sample_pnrs[b,:],sample,par) for b in range(min_boot,max_boot))\n",
    "    %time joblib.Parallel(n_jobs=60)(tasks)\n",
    "        "
   ]
  },
  {
   "cell_type": "markdown",
   "metadata": {},
   "source": [
    "**Save bootstraps:**"
   ]
  },
  {
   "cell_type": "code",
   "execution_count": null,
   "metadata": {},
   "outputs": [],
   "source": [
    "if DO_BOOTSTRAP:\n",
    "            \n",
    "    # a. number of bootstraps and moments\n",
    "    num_boot_tot = len(glob.glob(f'moments\\\\samples\\\\*_{sample}.txt'))\n",
    "    Nmoms = np.loadtxt(f'moments/samples/0_{sample}.txt').size\n",
    "\n",
    "    # b. save vectors of moments in chuncks\n",
    "    chunksize = 50\n",
    "    for b in range(0,num_boot_tot,chunksize):\n",
    "\n",
    "        last = np.fmin(b+chunksize,num_boot_tot)\n",
    "\n",
    "        mom_mat = np.empty((last-b,Nmoms))  \n",
    "        for i in range(0,last-b):\n",
    "            mom_mat[i,:] = np.loadtxt(f'moments/samples/{b+i}_{sample}.txt',delimiter=',')\n",
    "\n",
    "        np.savetxt(f'moments\\moments_bootstrap_{b}_{last-1}_{sample}.txt',mom_mat,delimiter=',')\n",
    "        "
   ]
  },
  {
   "cell_type": "markdown",
   "metadata": {},
   "source": [
    "**Peak at boostrap:**"
   ]
  },
  {
   "cell_type": "code",
   "execution_count": null,
   "metadata": {},
   "outputs": [],
   "source": [
    "# a. load\n",
    "files = glob.glob(f'moments\\moments_bootstrap*_{sample}.txt')\n",
    "moms_boots = np.concatenate([np.genfromtxt(file,delimiter=',') for file in files],axis=0).T\n",
    "\n",
    "# b. individual\n",
    "I = ~moms_df.momname.str.contains('cdf')\n",
    "for b in range(5):\n",
    "    moms_df.loc[I,f'b{b}'] = moms_boots[:,b]\n",
    "\n",
    "# c. variance\n",
    "moms_df.loc[I,f'var'] = np.var(moms_boots,axis=1)\n",
    "    \n",
    "# d. show\n",
    "moms_df.loc[I,['momname','value','b0','b1','b2','b3','b4','var']]"
   ]
  }
 ],
 "metadata": {
  "kernelspec": {
   "display_name": "Python 3",
   "language": "python",
   "name": "python3"
  },
  "language_info": {
   "codemirror_mode": {
    "name": "ipython",
    "version": 3
   },
   "file_extension": ".py",
   "mimetype": "text/x-python",
   "name": "python",
   "nbconvert_exporter": "python",
   "pygments_lexer": "ipython3",
   "version": "3.7.3"
  },
  "toc-autonumbering": true
 },
 "nbformat": 4,
 "nbformat_minor": 4
}
