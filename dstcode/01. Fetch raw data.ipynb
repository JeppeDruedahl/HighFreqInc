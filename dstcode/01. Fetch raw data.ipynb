{
 "cells": [
  {
   "cell_type": "markdown",
   "metadata": {},
   "source": [
    "# Imports"
   ]
  },
  {
   "cell_type": "code",
   "execution_count": null,
   "metadata": {},
   "outputs": [],
   "source": [
    "%load_ext autoreload\n",
    "%autoreload 2\n",
    "\n",
    "import os\n",
    "import dsttools\n",
    "import pandas as pd"
   ]
  },
  {
   "cell_type": "code",
   "execution_count": null,
   "metadata": {},
   "outputs": [],
   "source": [
    "# create folders if necessary\n",
    "if not os.path.exists('data'): os.makedirs('data')"
   ]
  },
  {
   "cell_type": "markdown",
   "metadata": {},
   "source": [
    "# Fetch and convert data"
   ]
  },
  {
   "cell_type": "markdown",
   "metadata": {},
   "source": [
    "**Step 1:** Find availalble years and variables for each dataset."
   ]
  },
  {
   "cell_type": "code",
   "execution_count": null,
   "metadata": {},
   "outputs": [],
   "source": [
    "# a. general setup\n",
    "projectid = '706248'\n",
    "datafolder = os.getcwd() + '/data' # data will be saved here\n",
    "    \n",
    "# b. load information\n",
    "allyearsdict,allvarset,years,allvars = dsttools.load_info(projectid)\n",
    "\n",
    "# c. example: some available datasets\n",
    "for i,(dataset,yearlist) in enumerate(allyearsdict.items()):\n",
    "    print(dataset,yearlist)\n",
    "    \n",
    "print('')\n",
    "        \n",
    "# d. example: some available dataset and variable combinations\n",
    "for i,element in enumerate(allvarset):\n",
    "    print(element[0],element[1])\n",
    "    if i > 5: break"
   ]
  },
  {
   "cell_type": "markdown",
   "metadata": {},
   "source": [
    "**Show variables in a dataset:**"
   ]
  },
  {
   "cell_type": "code",
   "execution_count": null,
   "metadata": {},
   "outputs": [],
   "source": [
    "dsttools.show_variables(years,allvars,'BEFUPD')"
   ]
  },
  {
   "cell_type": "markdown",
   "metadata": {},
   "source": [
    "**Step 2:** Select variables and their renaming conventions for each dataset:"
   ]
  },
  {
   "cell_type": "code",
   "execution_count": null,
   "metadata": {},
   "outputs": [],
   "source": [
    "bef_name = 'befupd'\n",
    "ind_name = 'indupd01'\n",
    "\n",
    "# a. variables (list for each dataset)\n",
    "bef_vars = [('pnr',),\n",
    "            (f'{bef_name}SourceYear','year'),\n",
    "            ('koen','sex'),\n",
    "            ('foed_dag','birthday')]\n",
    "\n",
    "ind_vars = [('pnr',),\n",
    "            (f'{ind_name}SourceYear','year'),\n",
    "            ('dispon_13',),\n",
    "            ('perindkialt_13',),\n",
    "            ('loenmv_13',),\n",
    "            ('netovskud_13',),\n",
    "            ('netovskud_gl',),\n",
    "            ('offpens_efterlon_13',),\n",
    "            ('privat_pension_13',),\n",
    "            ('corloen',)]\n",
    "\n",
    "bfl_vars = [('pnr',),\n",
    "            ('bflSourceYear','year'),\n",
    "            ('ajo_job_start_dato','start_date'),\n",
    "            ('ajo_job_slut_dato','end_date'),  \n",
    "            ('ajo_fuldtid_beskaeftiget','hours'),\n",
    "            ('ajo_smalt_loenbeloeb','wage_narrow'),\n",
    "            ('ajo_bredt_loenbeloeb','wage_broad')]            \n",
    "\n",
    "# note: ('x',) -> fetch variable x and keep its name\n",
    "# note: ('x','y') -> fetch variable x and rename it to y\n",
    "\n",
    "# b. datasets (dict)\n",
    "datasets = {}\n",
    "datasets[bef_name] = {'vars':bef_vars,'years':[2012,2012],'overwrite':False}\n",
    "datasets[ind_name] = {'vars':ind_vars,'years':[2011,2018],'overwrite':False}\n",
    "datasets['bfl'] = {'vars':bfl_vars,'years':[2011,2018],'overwrite':False}\n",
    "\n",
    "# note: overwrite -> fetch and convert no matter what, else check if the dataset is already on disk\n",
    "\n",
    "# c. random sub samples (dict)\n",
    "random_sub_samples = {'dataset':bef_name,'year':2012,'seed':17}"
   ]
  },
  {
   "cell_type": "markdown",
   "metadata": {},
   "source": [
    "**Step 3:** Fetch all the data:"
   ]
  },
  {
   "cell_type": "code",
   "execution_count": null,
   "metadata": {},
   "outputs": [],
   "source": [
    "# create folders if necessary\n",
    "if not os.path.exists(datafolder):\n",
    "    os.makedirs(datafolder)\n",
    "if not os.path.exists('logs'):\n",
    "    os.makedirs('logs')    "
   ]
  },
  {
   "cell_type": "code",
   "execution_count": null,
   "metadata": {},
   "outputs": [],
   "source": [
    "%time dsttools.fetch(projectid,datasets,datafolder)"
   ]
  },
  {
   "cell_type": "markdown",
   "metadata": {},
   "source": [
    "**Step 4:** Draw pnr's for random sub-samples:"
   ]
  },
  {
   "cell_type": "code",
   "execution_count": null,
   "metadata": {},
   "outputs": [],
   "source": [
    "%time dsttools.draw_random_sub_samples(random_sub_samples,datafolder)"
   ]
  },
  {
   "cell_type": "markdown",
   "metadata": {},
   "source": [
    "**Step 5:** Convert all the data to parquet:"
   ]
  },
  {
   "cell_type": "code",
   "execution_count": null,
   "metadata": {},
   "outputs": [],
   "source": [
    "%time dsttools.convert_to_parquet(projectid,datasets,datafolder)"
   ]
  },
  {
   "cell_type": "markdown",
   "metadata": {},
   "source": [
    "**Step 6:** Combine all year files a to single file:"
   ]
  },
  {
   "cell_type": "code",
   "execution_count": null,
   "metadata": {},
   "outputs": [],
   "source": [
    "%time dsttools.combine_years(projectid,datasets,datafolder)"
   ]
  }
 ],
 "metadata": {
  "kernelspec": {
   "display_name": "Python 3",
   "language": "python",
   "name": "python3"
  },
  "language_info": {
   "codemirror_mode": {
    "name": "ipython",
    "version": 3
   },
   "file_extension": ".py",
   "mimetype": "text/x-python",
   "name": "python",
   "nbconvert_exporter": "python",
   "pygments_lexer": "ipython3",
   "version": "3.7.3"
  },
  "toc-autonumbering": true
 },
 "nbformat": 4,
 "nbformat_minor": 4
}
