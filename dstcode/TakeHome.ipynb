{
 "cells": [
  {
   "cell_type": "code",
   "execution_count": null,
   "metadata": {},
   "outputs": [],
   "source": [
    "import os\n",
    "from shutil import copyfile\n",
    "\n",
    "if not os.path.exists('takehome'): os.makedirs('takehome')\n",
    "\n",
    "# a. dsttools\n",
    "for filename in ['__init__','analysis','combine_years','convert_from_sas','fetch_from_sas','info']:\n",
    "    copyfile(f'dsttools/{filename}.py',f'takehome/dsttools__{filename}_py.txt')\n",
    "    \n",
    "# b. main - py\n",
    "for filename in ['datafigs','moments']:\n",
    "    copyfile(f'{filename}.py',f'takehome/{filename}_py.txt')\n",
    "    \n",
    "# c. main - bat\n",
    "for filename in ['kill_all_sas_programs','open_anaconda_prompt','export_clean_notebooks']:\n",
    "    copyfile(f'{filename}.bat',f'takehome/{filename}_bat.txt')\n",
    "    \n",
    "# d. main - ipynb\n",
    "os.system('export_clean_notebooks.bat')\n",
    "for filename in ['01. Fetch raw data','02. Clean and merge data','03. Moments','TakeHome']:\n",
    "    copyfile(f'takehome/{filename}.ipynb',f'takehome/{filename}_ipynb.txt')"
   ]
  }
 ],
 "metadata": {
  "kernelspec": {
   "display_name": "Python 3",
   "language": "python",
   "name": "python3"
  },
  "language_info": {
   "codemirror_mode": {
    "name": "ipython",
    "version": 3
   },
   "file_extension": ".py",
   "mimetype": "text/x-python",
   "name": "python",
   "nbconvert_exporter": "python",
   "pygments_lexer": "ipython3",
   "version": "3.7.3"
  }
 },
 "nbformat": 4,
 "nbformat_minor": 2
}
